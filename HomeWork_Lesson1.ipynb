{
 "cells": [
  {
   "cell_type": "markdown",
   "id": "af2a8117",
   "metadata": {},
   "source": [
    "### Тема “Вычисления с помощью Numpy”\n",
    "\n",
    "#### Задание 1\n",
    "* Импортируйте библиотеку Numpy и дайте ей псевдоним np.\n",
    "Создайте массив Numpy под названием a размером 5x2, то есть состоящий из 5 строк и 2 столбцов. Первый столбец должен содержать числа 1, 2, 3, 3, 1, а второй - числа 6, 8, 11, 10, 7. Будем считать, что каждый столбец - это признак, а строка - наблюдение. Затем найдите среднее значение по каждому признаку, используя метод mean массива Numpy. Результат запишите в массив mean_a, в нем должно быть 2 элемента.\n"
   ]
  },
  {
   "cell_type": "code",
   "execution_count": 59,
   "id": "b2181ed7",
   "metadata": {},
   "outputs": [],
   "source": [
    "import numpy as np"
   ]
  },
  {
   "cell_type": "code",
   "execution_count": 60,
   "id": "3f0a7a09",
   "metadata": {
    "scrolled": false
   },
   "outputs": [
    {
     "name": "stdout",
     "output_type": "stream",
     "text": [
      "[[ 1  6]\n",
      " [ 2  8]\n",
      " [ 3 11]\n",
      " [ 3 10]\n",
      " [ 1  7]]\n",
      "Размерность A: 2\n",
      "Форма A: (5, 2)\n"
     ]
    }
   ],
   "source": [
    "A = np.array([[1, 6], \n",
    "              [2, 8], \n",
    "              [3, 11], \n",
    "              [3, 10], \n",
    "              [1, 7]])\n",
    "print(A)\n",
    "\n",
    "print(\"Размерность A: {}\".format(A.ndim))\n",
    "\n",
    "print(\"Форма A: {}\".format(A.shape))"
   ]
  },
  {
   "cell_type": "code",
   "execution_count": 61,
   "id": "69e0e327",
   "metadata": {},
   "outputs": [
    {
     "data": {
      "text/plain": [
       "array([2. , 8.4])"
      ]
     },
     "execution_count": 61,
     "metadata": {},
     "output_type": "execute_result"
    }
   ],
   "source": [
    "mean_a = A.mean(axis=0)\n",
    "mean_a"
   ]
  },
  {
   "cell_type": "markdown",
   "id": "31037a7f",
   "metadata": {},
   "source": [
    "#### Задание 2\n",
    "*  Вычислите массив a_centered, отняв от значений массива “а” средние значения соответствующих признаков, содержащиеся в массиве mean_a. Вычисление должно производиться в одно действие. Получившийся массив должен иметь размер 5x2."
   ]
  },
  {
   "cell_type": "code",
   "execution_count": 62,
   "id": "ee75086a",
   "metadata": {
    "scrolled": true
   },
   "outputs": [
    {
     "data": {
      "text/plain": [
       "array([[-1. , -2.4],\n",
       "       [ 0. , -0.4],\n",
       "       [ 1. ,  2.6],\n",
       "       [ 1. ,  1.6],\n",
       "       [-1. , -1.4]])"
      ]
     },
     "execution_count": 62,
     "metadata": {},
     "output_type": "execute_result"
    }
   ],
   "source": [
    "a_centered = np.subtract(A, mean_a)\n",
    "a_centered"
   ]
  },
  {
   "cell_type": "markdown",
   "id": "35b84505",
   "metadata": {},
   "source": [
    "#### Задание 3\n",
    "*  Найдите скалярное произведение столбцов массива a_centered. В результате должна получиться величина a_centered_sp. Затем поделите a_centered_sp на N-1, где N - число наблюдений."
   ]
  },
  {
   "cell_type": "code",
   "execution_count": 63,
   "id": "1718d131",
   "metadata": {},
   "outputs": [
    {
     "name": "stdout",
     "output_type": "stream",
     "text": [
      "Столбец №1 [-1.  0.  1.  1. -1.]\n",
      "Столбец №2 [-2.4 -0.4  2.6  1.6 -1.4]\n"
     ]
    }
   ],
   "source": [
    "col1 = a_centered[:,0]\n",
    "print(f\"Столбец №1 {col1}\")\n",
    "col2 = a_centered[:,1]\n",
    "print(f\"Столбец №2 {col2}\")"
   ]
  },
  {
   "cell_type": "code",
   "execution_count": 64,
   "id": "cddda8e0",
   "metadata": {},
   "outputs": [
    {
     "name": "stdout",
     "output_type": "stream",
     "text": [
      "Скалярное произведение столбцов №1 и №2 =  8.0\n"
     ]
    }
   ],
   "source": [
    "a_centered_sp = np.dot(col1, col2)\n",
    "print(f\"Скалярное произведение столбцов №1 и №2 =  {a_centered_sp}\")"
   ]
  },
  {
   "cell_type": "markdown",
   "id": "794b2cba",
   "metadata": {},
   "source": [
    "* Затем поделите a_centered_sp на N-1, где N - число наблюдений"
   ]
  },
  {
   "cell_type": "code",
   "execution_count": 65,
   "id": "10f1ce18",
   "metadata": {},
   "outputs": [
    {
     "data": {
      "text/plain": [
       "2.0"
      ]
     },
     "execution_count": 65,
     "metadata": {},
     "output_type": "execute_result"
    }
   ],
   "source": [
    "res1 = a_centered_sp / (A.shape[0] - 1)\n",
    "res1"
   ]
  },
  {
   "cell_type": "markdown",
   "id": "173dcead",
   "metadata": {},
   "source": [
    "#### Задание 4\n",
    "\n",
    "*Число, которое мы получили в конце задания 3 является ковариацией двух признаков, содержащихся в массиве “а”. В задании 4 мы делили сумму произведений центрированных признаков на N-1, а не на N, поэтому полученная нами величина является несмещенной оценкой ковариации.\n",
    "Подробнее узнать о ковариации можно здесь:\n",
    "\n",
    "В этом задании проверьте получившееся число, вычислив ковариацию еще одним способом - с помощью функции np.cov. В качестве аргумента m функция np.cov должна принимать транспонированный массив “a”. В получившейся ковариационной матрице (массив Numpy размером 2x2) искомое значение ковариации будет равно элементу в строке с индексом 0 и столбце с индексом 1.\n"
   ]
  },
  {
   "cell_type": "code",
   "execution_count": 66,
   "id": "2d5c3587",
   "metadata": {},
   "outputs": [
    {
     "data": {
      "text/plain": [
       "array([[1. , 2. ],\n",
       "       [2. , 4.3]])"
      ]
     },
     "execution_count": 66,
     "metadata": {},
     "output_type": "execute_result"
    }
   ],
   "source": [
    "res2 = np.cov(A.transpose())\n",
    "res2"
   ]
  },
  {
   "cell_type": "code",
   "execution_count": 67,
   "id": "ea943c0a",
   "metadata": {},
   "outputs": [
    {
     "name": "stdout",
     "output_type": "stream",
     "text": [
      "Ковариация двух признаков =  2.0\n",
      "Ковариация двух признаков  в первом способе вычисления =  2.0\n"
     ]
    }
   ],
   "source": [
    "final_res = res2[0,1]\n",
    "print(f\"Ковариация двух признаков =  {final_res}\")\n",
    "print(f\"Ковариация двух признаков  в первом способе вычисления =  {res1}\")"
   ]
  },
  {
   "cell_type": "code",
   "execution_count": null,
   "id": "45383716",
   "metadata": {},
   "outputs": [],
   "source": []
  }
 ],
 "metadata": {
  "kernelspec": {
   "display_name": "Python 3 (ipykernel)",
   "language": "python",
   "name": "python3"
  },
  "language_info": {
   "codemirror_mode": {
    "name": "ipython",
    "version": 3
   },
   "file_extension": ".py",
   "mimetype": "text/x-python",
   "name": "python",
   "nbconvert_exporter": "python",
   "pygments_lexer": "ipython3",
   "version": "3.9.12"
  }
 },
 "nbformat": 4,
 "nbformat_minor": 5
}
